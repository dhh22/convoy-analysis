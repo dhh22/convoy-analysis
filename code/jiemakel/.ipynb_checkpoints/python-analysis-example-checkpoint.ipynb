{
 "cells": [
  {
   "cell_type": "code",
   "execution_count": 1,
   "id": "cfa5190a",
   "metadata": {
    "lines_to_next_cell": 0
   },
   "outputs": [],
   "source": [
    "import os\n",
    "import sys\n",
    "if \"__file__\" in globals():\n",
    "    sys.path.append(os.path.dirname(os.path.dirname(os.path.realpath(__file__))))\n",
    "sys.path.append(os.getcwd()+\"/code\")\n",
    "sys.path.append(\".\")\n",
    "sys.path.append(\"..\")\n",
    "import common_basis\n",
    "\n",
    "con = common_basis.con\n",
    "\n",
    "import pandas as pd\n",
    "import seaborn as sns"
   ]
  },
  {
   "cell_type": "code",
   "execution_count": 2,
   "id": "576d1924",
   "metadata": {},
   "outputs": [],
   "source": [
    "\n",
    "d = pd.read_sql_query(\"\"\"\n",
    "  SELECT COUNT(*) as tweets \n",
    "  FROM tweets_c \n",
    "  GROUP BY conversation_id\"\"\", con)"
   ]
  },
  {
   "cell_type": "code",
   "execution_count": 3,
   "id": "b08f2b90",
   "metadata": {},
   "outputs": [
    {
     "data": {
      "text/plain": [
       "<AxesSubplot:xlabel='tweets', ylabel='Count'>"
      ]
     },
     "execution_count": 3,
     "metadata": {},
     "output_type": "execute_result"
    },
    {
     "data": {
      "image/png": "[encoded data removed]",
      "text/plain": [
       "<Figure size 432x288 with 1 Axes>"
      ]
     },
     "metadata": {
      "needs_background": "light"
     },
     "output_type": "display_data"
    }
   ],
   "source": [
    "\n",
    "sns.histplot(d, x=\"tweets\", bins=100, log_scale=(True, True))"
   ]
  },
  {
   "cell_type": "code",
   "execution_count": null,
   "id": "05a225ee",
   "metadata": {
    "lines_to_next_cell": 2
   },
   "outputs": [],
   "source": []
  }
 ],
 "metadata": {
  "jupytext": {
   "cell_metadata_filter": "-all",
   "formats": "py:percent,ipynb"
  },
  "kernelspec": {
   "display_name": "Python 3 (ipykernel)",
   "language": "python",
   "name": "python3"
  },
  "language_info": {
   "codemirror_mode": {
    "name": "ipython",
    "version": 3
   },
   "file_extension": ".py",
   "mimetype": "text/x-python",
   "name": "python",
   "nbconvert_exporter": "python",
   "pygments_lexer": "ipython3",
   "version": "3.10.4"
  }
 },
 "nbformat": 4,
 "nbformat_minor": 5
}
