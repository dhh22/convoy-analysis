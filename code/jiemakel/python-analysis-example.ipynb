{
 "cells": [
  {
   "cell_type": "code",
   "execution_count": 6,
   "id": "f3abd8ef-f440-4c48-83a5-0edffdadd502",
   "metadata": {},
   "outputs": [
    {
     "name": "stdout",
     "output_type": "stream",
     "text": [
      "File ‘requirements.txt’ already there; not retrieving.\n",
      "\n",
      "Ignoring cffi: markers 'sys_platform == \"linux\" and python_version >= \"3.7\" and implementation_name == \"pypy\"' don't match your environment\n",
      "Ignoring colorama: markers 'python_version >= \"3.8\" and python_full_version < \"3.0.0\" and sys_platform == \"win32\" or sys_platform == \"win32\" and python_version >= \"3.8\" and python_full_version >= \"3.5.0\"' don't match your environment\n",
      "Ignoring cryptography: markers 'sys_platform == \"linux\" and python_version >= \"3.7\"' don't match your environment\n",
      "Ignoring greenlet: markers 'python_version >= \"3\" and python_full_version < \"3.0.0\" and (platform_machine == \"aarch64\" or platform_machine == \"ppc64le\" or platform_machine == \"x86_64\" or platform_machine == \"amd64\" or platform_machine == \"AMD64\" or platform_machine == \"win32\" or platform_machine == \"WIN32\") and (python_version >= \"2.7\" and python_full_version < \"3.0.0\" or python_full_version >= \"3.6.0\") or python_version >= \"3\" and (platform_machine == \"aarch64\" or platform_machine == \"ppc64le\" or platform_machine == \"x86_64\" or platform_machine == \"amd64\" or platform_machine == \"AMD64\" or platform_machine == \"win32\" or platform_machine == \"WIN32\") and (python_version >= \"2.7\" and python_full_version < \"3.0.0\" or python_full_version >= \"3.6.0\") and python_full_version >= \"3.5.0\"' don't match your environment\n",
      "Ignoring jeepney: markers 'sys_platform == \"linux\" and python_version >= \"3.7\"' don't match your environment\n",
      "Ignoring py: markers 'python_version >= \"3.7\" and python_full_version < \"3.0.0\" and implementation_name == \"pypy\" or implementation_name == \"pypy\" and python_version >= \"3.7\" and python_full_version >= \"3.5.0\"' don't match your environment\n",
      "Ignoring pycparser: markers 'python_version >= \"3.7\" and python_full_version < \"3.0.0\" and sys_platform == \"linux\" and implementation_name == \"pypy\" or sys_platform == \"linux\" and python_version >= \"3.7\" and implementation_name == \"pypy\" and python_full_version >= \"3.4.0\"' don't match your environment\n",
      "Ignoring pywin32-ctypes: markers 'sys_platform == \"win32\" and python_version >= \"3.7\"' don't match your environment\n",
      "Ignoring pywin32: markers 'sys_platform == \"win32\" and platform_python_implementation != \"PyPy\" and python_version >= \"3.7\" and python_version < \"4.0\"' don't match your environment\n",
      "Ignoring pywinpty: markers 'os_name == \"nt\" and python_version >= \"3.7\"' don't match your environment\n",
      "Ignoring secretstorage: markers 'sys_platform == \"linux\" and python_version >= \"3.7\"' don't match your environment\n",
      "Requirement already satisfied: anyio==3.5.0 in /Users/jiemakel/Library/Caches/pypoetry/virtualenvs/convoy-analysis-FIx-i_EO-py3.10/lib/python3.10/site-packages (from -r requirements.txt (line 1)) (3.5.0)\n",
      "Requirement already satisfied: appnope==0.1.3 in /Users/jiemakel/Library/Caches/pypoetry/virtualenvs/convoy-analysis-FIx-i_EO-py3.10/lib/python3.10/site-packages (from -r requirements.txt (line 2)) (0.1.3)\n",
      "Requirement already satisfied: argon2-cffi-bindings==21.2.0 in /Users/jiemakel/Library/Caches/pypoetry/virtualenvs/convoy-analysis-FIx-i_EO-py3.10/lib/python3.10/site-packages (from -r requirements.txt (line 3)) (21.2.0)\n",
      "Requirement already satisfied: argon2-cffi==21.3.0 in /Users/jiemakel/Library/Caches/pypoetry/virtualenvs/convoy-analysis-FIx-i_EO-py3.10/lib/python3.10/site-packages (from -r requirements.txt (line 4)) (21.3.0)\n",
      "Requirement already satisfied: asttokens==2.0.5 in /Users/jiemakel/Library/Caches/pypoetry/virtualenvs/convoy-analysis-FIx-i_EO-py3.10/lib/python3.10/site-packages (from -r requirements.txt (line 5)) (2.0.5)\n",
      "Requirement already satisfied: attrs==21.4.0 in /Users/jiemakel/Library/Caches/pypoetry/virtualenvs/convoy-analysis-FIx-i_EO-py3.10/lib/python3.10/site-packages (from -r requirements.txt (line 6)) (21.4.0)\n",
      "Requirement already satisfied: babel==2.10.1 in /Users/jiemakel/Library/Caches/pypoetry/virtualenvs/convoy-analysis-FIx-i_EO-py3.10/lib/python3.10/site-packages (from -r requirements.txt (line 7)) (2.10.1)\n",
      "Requirement already satisfied: backcall==0.2.0 in /Users/jiemakel/Library/Caches/pypoetry/virtualenvs/convoy-analysis-FIx-i_EO-py3.10/lib/python3.10/site-packages (from -r requirements.txt (line 8)) (0.2.0)\n",
      "Requirement already satisfied: beautifulsoup4==4.11.1 in /Users/jiemakel/Library/Caches/pypoetry/virtualenvs/convoy-analysis-FIx-i_EO-py3.10/lib/python3.10/site-packages (from -r requirements.txt (line 9)) (4.11.1)\n",
      "Requirement already satisfied: bleach==5.0.0 in /Users/jiemakel/Library/Caches/pypoetry/virtualenvs/convoy-analysis-FIx-i_EO-py3.10/lib/python3.10/site-packages (from -r requirements.txt (line 10)) (5.0.0)\n",
      "Requirement already satisfied: certifi==2021.10.8 in /Users/jiemakel/Library/Caches/pypoetry/virtualenvs/convoy-analysis-FIx-i_EO-py3.10/lib/python3.10/site-packages (from -r requirements.txt (line 11)) (2021.10.8)\n",
      "Requirement already satisfied: charset-normalizer==2.0.12 in /Users/jiemakel/Library/Caches/pypoetry/virtualenvs/convoy-analysis-FIx-i_EO-py3.10/lib/python3.10/site-packages (from -r requirements.txt (line 13)) (2.0.12)\n",
      "Requirement already satisfied: cycler==0.11.0 in /Users/jiemakel/Library/Caches/pypoetry/virtualenvs/convoy-analysis-FIx-i_EO-py3.10/lib/python3.10/site-packages (from -r requirements.txt (line 16)) (0.11.0)\n",
      "Requirement already satisfied: debugpy==1.6.0 in /Users/jiemakel/Library/Caches/pypoetry/virtualenvs/convoy-analysis-FIx-i_EO-py3.10/lib/python3.10/site-packages (from -r requirements.txt (line 17)) (1.6.0)\n",
      "Requirement already satisfied: decorator==5.1.1 in /Users/jiemakel/Library/Caches/pypoetry/virtualenvs/convoy-analysis-FIx-i_EO-py3.10/lib/python3.10/site-packages (from -r requirements.txt (line 18)) (5.1.1)\n",
      "Requirement already satisfied: defusedxml==0.7.1 in /Users/jiemakel/Library/Caches/pypoetry/virtualenvs/convoy-analysis-FIx-i_EO-py3.10/lib/python3.10/site-packages (from -r requirements.txt (line 19)) (0.7.1)\n",
      "Requirement already satisfied: entrypoints==0.4 in /Users/jiemakel/Library/Caches/pypoetry/virtualenvs/convoy-analysis-FIx-i_EO-py3.10/lib/python3.10/site-packages (from -r requirements.txt (line 20)) (0.4)\n",
      "Requirement already satisfied: executing==0.8.3 in /Users/jiemakel/Library/Caches/pypoetry/virtualenvs/convoy-analysis-FIx-i_EO-py3.10/lib/python3.10/site-packages (from -r requirements.txt (line 21)) (0.8.3)\n",
      "Requirement already satisfied: fastjsonschema==2.15.3 in /Users/jiemakel/Library/Caches/pypoetry/virtualenvs/convoy-analysis-FIx-i_EO-py3.10/lib/python3.10/site-packages (from -r requirements.txt (line 22)) (2.15.3)\n",
      "Requirement already satisfied: fonttools==4.33.3 in /Users/jiemakel/Library/Caches/pypoetry/virtualenvs/convoy-analysis-FIx-i_EO-py3.10/lib/python3.10/site-packages (from -r requirements.txt (line 23)) (4.33.3)\n",
      "Requirement already satisfied: idna==3.3 in /Users/jiemakel/Library/Caches/pypoetry/virtualenvs/convoy-analysis-FIx-i_EO-py3.10/lib/python3.10/site-packages (from -r requirements.txt (line 25)) (3.3)\n",
      "Requirement already satisfied: importlib-metadata==4.11.3 in /Users/jiemakel/Library/Caches/pypoetry/virtualenvs/convoy-analysis-FIx-i_EO-py3.10/lib/python3.10/site-packages (from -r requirements.txt (line 26)) (4.11.3)\n",
      "Requirement already satisfied: ipykernel==6.13.0 in /Users/jiemakel/Library/Caches/pypoetry/virtualenvs/convoy-analysis-FIx-i_EO-py3.10/lib/python3.10/site-packages (from -r requirements.txt (line 27)) (6.13.0)\n",
      "Requirement already satisfied: ipython-genutils==0.2.0 in /Users/jiemakel/Library/Caches/pypoetry/virtualenvs/convoy-analysis-FIx-i_EO-py3.10/lib/python3.10/site-packages (from -r requirements.txt (line 28)) (0.2.0)\n",
      "Requirement already satisfied: ipython==8.3.0 in /Users/jiemakel/Library/Caches/pypoetry/virtualenvs/convoy-analysis-FIx-i_EO-py3.10/lib/python3.10/site-packages (from -r requirements.txt (line 29)) (8.3.0)\n",
      "Requirement already satisfied: jedi==0.18.1 in /Users/jiemakel/Library/Caches/pypoetry/virtualenvs/convoy-analysis-FIx-i_EO-py3.10/lib/python3.10/site-packages (from -r requirements.txt (line 30)) (0.18.1)\n",
      "Requirement already satisfied: jinja2==3.1.2 in /Users/jiemakel/Library/Caches/pypoetry/virtualenvs/convoy-analysis-FIx-i_EO-py3.10/lib/python3.10/site-packages (from -r requirements.txt (line 32)) (3.1.2)\n",
      "Requirement already satisfied: json5==0.9.8 in /Users/jiemakel/Library/Caches/pypoetry/virtualenvs/convoy-analysis-FIx-i_EO-py3.10/lib/python3.10/site-packages (from -r requirements.txt (line 33)) (0.9.8)\n",
      "Requirement already satisfied: jsonschema==4.5.1 in /Users/jiemakel/Library/Caches/pypoetry/virtualenvs/convoy-analysis-FIx-i_EO-py3.10/lib/python3.10/site-packages (from -r requirements.txt (line 34)) (4.5.1)\n",
      "Requirement already satisfied: jupyter-client==7.3.1 in /Users/jiemakel/Library/Caches/pypoetry/virtualenvs/convoy-analysis-FIx-i_EO-py3.10/lib/python3.10/site-packages (from -r requirements.txt (line 35)) (7.3.1)\n",
      "Requirement already satisfied: jupyter-core==4.10.0 in /Users/jiemakel/Library/Caches/pypoetry/virtualenvs/convoy-analysis-FIx-i_EO-py3.10/lib/python3.10/site-packages (from -r requirements.txt (line 36)) (4.10.0)\n",
      "Requirement already satisfied: jupyter-server==1.17.0 in /Users/jiemakel/Library/Caches/pypoetry/virtualenvs/convoy-analysis-FIx-i_EO-py3.10/lib/python3.10/site-packages (from -r requirements.txt (line 37)) (1.17.0)\n",
      "Requirement already satisfied: jupyterlab-pygments==0.2.2 in /Users/jiemakel/Library/Caches/pypoetry/virtualenvs/convoy-analysis-FIx-i_EO-py3.10/lib/python3.10/site-packages (from -r requirements.txt (line 38)) (0.2.2)\n",
      "Requirement already satisfied: jupyterlab-server==2.13.0 in /Users/jiemakel/Library/Caches/pypoetry/virtualenvs/convoy-analysis-FIx-i_EO-py3.10/lib/python3.10/site-packages (from -r requirements.txt (line 39)) (2.13.0)\n",
      "Requirement already satisfied: jupyterlab==3.4.1 in /Users/jiemakel/Library/Caches/pypoetry/virtualenvs/convoy-analysis-FIx-i_EO-py3.10/lib/python3.10/site-packages (from -r requirements.txt (line 40)) (3.4.1)\n",
      "Requirement already satisfied: jupytext==1.13.8 in /Users/jiemakel/Library/Caches/pypoetry/virtualenvs/convoy-analysis-FIx-i_EO-py3.10/lib/python3.10/site-packages (from -r requirements.txt (line 41)) (1.13.8)\n",
      "Requirement already satisfied: keyring==23.5.0 in /Users/jiemakel/Library/Caches/pypoetry/virtualenvs/convoy-analysis-FIx-i_EO-py3.10/lib/python3.10/site-packages (from -r requirements.txt (line 42)) (23.5.0)\n",
      "Requirement already satisfied: kiwisolver==1.4.2 in /Users/jiemakel/Library/Caches/pypoetry/virtualenvs/convoy-analysis-FIx-i_EO-py3.10/lib/python3.10/site-packages (from -r requirements.txt (line 43)) (1.4.2)\n",
      "Requirement already satisfied: markdown-it-py==2.1.0 in /Users/jiemakel/Library/Caches/pypoetry/virtualenvs/convoy-analysis-FIx-i_EO-py3.10/lib/python3.10/site-packages (from -r requirements.txt (line 44)) (2.1.0)\n",
      "Requirement already satisfied: markupsafe==2.1.1 in /Users/jiemakel/Library/Caches/pypoetry/virtualenvs/convoy-analysis-FIx-i_EO-py3.10/lib/python3.10/site-packages (from -r requirements.txt (line 45)) (2.1.1)\n",
      "Requirement already satisfied: matplotlib-inline==0.1.3 in /Users/jiemakel/Library/Caches/pypoetry/virtualenvs/convoy-analysis-FIx-i_EO-py3.10/lib/python3.10/site-packages (from -r requirements.txt (line 46)) (0.1.3)\n",
      "Requirement already satisfied: matplotlib==3.5.2 in /Users/jiemakel/Library/Caches/pypoetry/virtualenvs/convoy-analysis-FIx-i_EO-py3.10/lib/python3.10/site-packages (from -r requirements.txt (line 47)) (3.5.2)\n",
      "Requirement already satisfied: mdit-py-plugins==0.3.0 in /Users/jiemakel/Library/Caches/pypoetry/virtualenvs/convoy-analysis-FIx-i_EO-py3.10/lib/python3.10/site-packages (from -r requirements.txt (line 48)) (0.3.0)\n",
      "Requirement already satisfied: mdurl==0.1.1 in /Users/jiemakel/Library/Caches/pypoetry/virtualenvs/convoy-analysis-FIx-i_EO-py3.10/lib/python3.10/site-packages (from -r requirements.txt (line 49)) (0.1.1)\n",
      "Requirement already satisfied: mistune==0.8.4 in /Users/jiemakel/Library/Caches/pypoetry/virtualenvs/convoy-analysis-FIx-i_EO-py3.10/lib/python3.10/site-packages (from -r requirements.txt (line 50)) (0.8.4)\n",
      "Requirement already satisfied: nbclassic==0.3.7 in /Users/jiemakel/Library/Caches/pypoetry/virtualenvs/convoy-analysis-FIx-i_EO-py3.10/lib/python3.10/site-packages (from -r requirements.txt (line 51)) (0.3.7)\n",
      "Requirement already satisfied: nbclient==0.6.3 in /Users/jiemakel/Library/Caches/pypoetry/virtualenvs/convoy-analysis-FIx-i_EO-py3.10/lib/python3.10/site-packages (from -r requirements.txt (line 52)) (0.6.3)\n",
      "Requirement already satisfied: nbconvert==6.5.0 in /Users/jiemakel/Library/Caches/pypoetry/virtualenvs/convoy-analysis-FIx-i_EO-py3.10/lib/python3.10/site-packages (from -r requirements.txt (line 53)) (6.5.0)\n",
      "Requirement already satisfied: nbformat==5.4.0 in /Users/jiemakel/Library/Caches/pypoetry/virtualenvs/convoy-analysis-FIx-i_EO-py3.10/lib/python3.10/site-packages (from -r requirements.txt (line 54)) (5.4.0)\n",
      "Requirement already satisfied: nest-asyncio==1.5.5 in /Users/jiemakel/Library/Caches/pypoetry/virtualenvs/convoy-analysis-FIx-i_EO-py3.10/lib/python3.10/site-packages (from -r requirements.txt (line 55)) (1.5.5)\n",
      "Requirement already satisfied: notebook-shim==0.1.0 in /Users/jiemakel/Library/Caches/pypoetry/virtualenvs/convoy-analysis-FIx-i_EO-py3.10/lib/python3.10/site-packages (from -r requirements.txt (line 56)) (0.1.0)\n",
      "Requirement already satisfied: notebook==6.4.11 in /Users/jiemakel/Library/Caches/pypoetry/virtualenvs/convoy-analysis-FIx-i_EO-py3.10/lib/python3.10/site-packages (from -r requirements.txt (line 57)) (6.4.11)\n",
      "Requirement already satisfied: numpy==1.22.3 in /Users/jiemakel/Library/Caches/pypoetry/virtualenvs/convoy-analysis-FIx-i_EO-py3.10/lib/python3.10/site-packages (from -r requirements.txt (line 58)) (1.22.3)\n",
      "Requirement already satisfied: packaging==21.3 in /Users/jiemakel/Library/Caches/pypoetry/virtualenvs/convoy-analysis-FIx-i_EO-py3.10/lib/python3.10/site-packages (from -r requirements.txt (line 59)) (21.3)\n",
      "Requirement already satisfied: pandas==1.4.2 in /Users/jiemakel/Library/Caches/pypoetry/virtualenvs/convoy-analysis-FIx-i_EO-py3.10/lib/python3.10/site-packages (from -r requirements.txt (line 60)) (1.4.2)\n",
      "Requirement already satisfied: pandocfilters==1.5.0 in /Users/jiemakel/Library/Caches/pypoetry/virtualenvs/convoy-analysis-FIx-i_EO-py3.10/lib/python3.10/site-packages (from -r requirements.txt (line 61)) (1.5.0)\n",
      "Requirement already satisfied: parso==0.8.3 in /Users/jiemakel/Library/Caches/pypoetry/virtualenvs/convoy-analysis-FIx-i_EO-py3.10/lib/python3.10/site-packages (from -r requirements.txt (line 62)) (0.8.3)\n",
      "Requirement already satisfied: pexpect==4.8.0 in /Users/jiemakel/Library/Caches/pypoetry/virtualenvs/convoy-analysis-FIx-i_EO-py3.10/lib/python3.10/site-packages (from -r requirements.txt (line 63)) (4.8.0)\n",
      "Requirement already satisfied: pickleshare==0.7.5 in /Users/jiemakel/Library/Caches/pypoetry/virtualenvs/convoy-analysis-FIx-i_EO-py3.10/lib/python3.10/site-packages (from -r requirements.txt (line 64)) (0.7.5)\n",
      "Requirement already satisfied: pillow==9.1.0 in /Users/jiemakel/Library/Caches/pypoetry/virtualenvs/convoy-analysis-FIx-i_EO-py3.10/lib/python3.10/site-packages (from -r requirements.txt (line 65)) (9.1.0)\n",
      "Requirement already satisfied: prometheus-client==0.14.1 in /Users/jiemakel/Library/Caches/pypoetry/virtualenvs/convoy-analysis-FIx-i_EO-py3.10/lib/python3.10/site-packages (from -r requirements.txt (line 66)) (0.14.1)\n",
      "Requirement already satisfied: prompt-toolkit==3.0.29 in /Users/jiemakel/Library/Caches/pypoetry/virtualenvs/convoy-analysis-FIx-i_EO-py3.10/lib/python3.10/site-packages (from -r requirements.txt (line 67)) (3.0.29)\n",
      "Requirement already satisfied: psutil==5.9.0 in /Users/jiemakel/Library/Caches/pypoetry/virtualenvs/convoy-analysis-FIx-i_EO-py3.10/lib/python3.10/site-packages (from -r requirements.txt (line 68)) (5.9.0)\n",
      "Requirement already satisfied: ptyprocess==0.7.0 in /Users/jiemakel/Library/Caches/pypoetry/virtualenvs/convoy-analysis-FIx-i_EO-py3.10/lib/python3.10/site-packages (from -r requirements.txt (line 69)) (0.7.0)\n",
      "Requirement already satisfied: pure-eval==0.2.2 in /Users/jiemakel/Library/Caches/pypoetry/virtualenvs/convoy-analysis-FIx-i_EO-py3.10/lib/python3.10/site-packages (from -r requirements.txt (line 70)) (0.2.2)\n",
      "Requirement already satisfied: pygments==2.12.0 in /Users/jiemakel/Library/Caches/pypoetry/virtualenvs/convoy-analysis-FIx-i_EO-py3.10/lib/python3.10/site-packages (from -r requirements.txt (line 73)) (2.12.0)\n",
      "Requirement already satisfied: pymysql==1.0.2 in /Users/jiemakel/Library/Caches/pypoetry/virtualenvs/convoy-analysis-FIx-i_EO-py3.10/lib/python3.10/site-packages (from -r requirements.txt (line 74)) (1.0.2)\n",
      "Requirement already satisfied: pyparsing==3.0.9 in /Users/jiemakel/Library/Caches/pypoetry/virtualenvs/convoy-analysis-FIx-i_EO-py3.10/lib/python3.10/site-packages (from -r requirements.txt (line 75)) (3.0.9)\n",
      "Requirement already satisfied: pyrsistent==0.18.1 in /Users/jiemakel/Library/Caches/pypoetry/virtualenvs/convoy-analysis-FIx-i_EO-py3.10/lib/python3.10/site-packages (from -r requirements.txt (line 76)) (0.18.1)\n",
      "Requirement already satisfied: python-dateutil==2.8.2 in /Users/jiemakel/Library/Caches/pypoetry/virtualenvs/convoy-analysis-FIx-i_EO-py3.10/lib/python3.10/site-packages (from -r requirements.txt (line 77)) (2.8.2)\n",
      "Requirement already satisfied: pytz==2022.1 in /Users/jiemakel/Library/Caches/pypoetry/virtualenvs/convoy-analysis-FIx-i_EO-py3.10/lib/python3.10/site-packages (from -r requirements.txt (line 78)) (2022.1)\n",
      "Requirement already satisfied: pyyaml==6.0 in /Users/jiemakel/Library/Caches/pypoetry/virtualenvs/convoy-analysis-FIx-i_EO-py3.10/lib/python3.10/site-packages (from -r requirements.txt (line 82)) (6.0)\n",
      "Requirement already satisfied: pyzmq==22.3.0 in /Users/jiemakel/Library/Caches/pypoetry/virtualenvs/convoy-analysis-FIx-i_EO-py3.10/lib/python3.10/site-packages (from -r requirements.txt (line 83)) (22.3.0)\n",
      "Requirement already satisfied: requests==2.27.1 in /Users/jiemakel/Library/Caches/pypoetry/virtualenvs/convoy-analysis-FIx-i_EO-py3.10/lib/python3.10/site-packages (from -r requirements.txt (line 84)) (2.27.1)\n",
      "Requirement already satisfied: scipy==1.8.0 in /Users/jiemakel/Library/Caches/pypoetry/virtualenvs/convoy-analysis-FIx-i_EO-py3.10/lib/python3.10/site-packages (from -r requirements.txt (line 85)) (1.8.0)\n",
      "Requirement already satisfied: seaborn==0.11.2 in /Users/jiemakel/Library/Caches/pypoetry/virtualenvs/convoy-analysis-FIx-i_EO-py3.10/lib/python3.10/site-packages (from -r requirements.txt (line 86)) (0.11.2)\n",
      "Requirement already satisfied: send2trash==1.8.0 in /Users/jiemakel/Library/Caches/pypoetry/virtualenvs/convoy-analysis-FIx-i_EO-py3.10/lib/python3.10/site-packages (from -r requirements.txt (line 88)) (1.8.0)\n",
      "Requirement already satisfied: setuptools-scm==6.4.2 in /Users/jiemakel/Library/Caches/pypoetry/virtualenvs/convoy-analysis-FIx-i_EO-py3.10/lib/python3.10/site-packages (from -r requirements.txt (line 89)) (6.4.2)\n",
      "Requirement already satisfied: six==1.16.0 in /Users/jiemakel/Library/Caches/pypoetry/virtualenvs/convoy-analysis-FIx-i_EO-py3.10/lib/python3.10/site-packages (from -r requirements.txt (line 90)) (1.16.0)\n",
      "Requirement already satisfied: sniffio==1.2.0 in /Users/jiemakel/Library/Caches/pypoetry/virtualenvs/convoy-analysis-FIx-i_EO-py3.10/lib/python3.10/site-packages (from -r requirements.txt (line 91)) (1.2.0)\n",
      "Requirement already satisfied: soupsieve==2.3.2.post1 in /Users/jiemakel/Library/Caches/pypoetry/virtualenvs/convoy-analysis-FIx-i_EO-py3.10/lib/python3.10/site-packages (from -r requirements.txt (line 92)) (2.3.2.post1)\n",
      "Requirement already satisfied: sqlalchemy==1.4.36 in /Users/jiemakel/Library/Caches/pypoetry/virtualenvs/convoy-analysis-FIx-i_EO-py3.10/lib/python3.10/site-packages (from -r requirements.txt (line 93)) (1.4.36)\n",
      "Requirement already satisfied: stack-data==0.2.0 in /Users/jiemakel/Library/Caches/pypoetry/virtualenvs/convoy-analysis-FIx-i_EO-py3.10/lib/python3.10/site-packages (from -r requirements.txt (line 94)) (0.2.0)\n",
      "Requirement already satisfied: terminado==0.13.3 in /Users/jiemakel/Library/Caches/pypoetry/virtualenvs/convoy-analysis-FIx-i_EO-py3.10/lib/python3.10/site-packages (from -r requirements.txt (line 95)) (0.13.3)\n",
      "Requirement already satisfied: tinycss2==1.1.1 in /Users/jiemakel/Library/Caches/pypoetry/virtualenvs/convoy-analysis-FIx-i_EO-py3.10/lib/python3.10/site-packages (from -r requirements.txt (line 96)) (1.1.1)\n",
      "Requirement already satisfied: toml==0.10.2 in /Users/jiemakel/Library/Caches/pypoetry/virtualenvs/convoy-analysis-FIx-i_EO-py3.10/lib/python3.10/site-packages (from -r requirements.txt (line 97)) (0.10.2)\n",
      "Requirement already satisfied: tomli==2.0.1 in /Users/jiemakel/Library/Caches/pypoetry/virtualenvs/convoy-analysis-FIx-i_EO-py3.10/lib/python3.10/site-packages (from -r requirements.txt (line 98)) (2.0.1)\n",
      "Requirement already satisfied: tornado==6.1 in /Users/jiemakel/Library/Caches/pypoetry/virtualenvs/convoy-analysis-FIx-i_EO-py3.10/lib/python3.10/site-packages (from -r requirements.txt (line 99)) (6.1)\n",
      "Requirement already satisfied: traitlets==5.2.0 in /Users/jiemakel/Library/Caches/pypoetry/virtualenvs/convoy-analysis-FIx-i_EO-py3.10/lib/python3.10/site-packages (from -r requirements.txt (line 100)) (5.2.0)\n",
      "Requirement already satisfied: urllib3==1.26.9 in /Users/jiemakel/Library/Caches/pypoetry/virtualenvs/convoy-analysis-FIx-i_EO-py3.10/lib/python3.10/site-packages (from -r requirements.txt (line 101)) (1.26.9)\n",
      "Requirement already satisfied: wcwidth==0.2.5 in /Users/jiemakel/Library/Caches/pypoetry/virtualenvs/convoy-analysis-FIx-i_EO-py3.10/lib/python3.10/site-packages (from -r requirements.txt (line 102)) (0.2.5)\n",
      "Requirement already satisfied: webencodings==0.5.1 in /Users/jiemakel/Library/Caches/pypoetry/virtualenvs/convoy-analysis-FIx-i_EO-py3.10/lib/python3.10/site-packages (from -r requirements.txt (line 103)) (0.5.1)\n",
      "Requirement already satisfied: websocket-client==1.3.2 in /Users/jiemakel/Library/Caches/pypoetry/virtualenvs/convoy-analysis-FIx-i_EO-py3.10/lib/python3.10/site-packages (from -r requirements.txt (line 104)) (1.3.2)\n",
      "Requirement already satisfied: zipp==3.8.0 in /Users/jiemakel/Library/Caches/pypoetry/virtualenvs/convoy-analysis-FIx-i_EO-py3.10/lib/python3.10/site-packages (from -r requirements.txt (line 105)) (3.8.0)\n",
      "Requirement already satisfied: cffi>=1.0.1 in /Users/jiemakel/Library/Caches/pypoetry/virtualenvs/convoy-analysis-FIx-i_EO-py3.10/lib/python3.10/site-packages (from argon2-cffi-bindings==21.2.0->-r requirements.txt (line 3)) (1.15.0)\n",
      "Requirement already satisfied: setuptools>=18.5 in /Users/jiemakel/Library/Caches/pypoetry/virtualenvs/convoy-analysis-FIx-i_EO-py3.10/lib/python3.10/site-packages (from ipython==8.3.0->-r requirements.txt (line 29)) (60.6.0)\n",
      "Requirement already satisfied: pycparser in /Users/jiemakel/Library/Caches/pypoetry/virtualenvs/convoy-analysis-FIx-i_EO-py3.10/lib/python3.10/site-packages (from cffi>=1.0.1->argon2-cffi-bindings==21.2.0->-r requirements.txt (line 3)) (2.21)\n",
      "\u001b[33mWARNING: You are using pip version 22.0.3; however, version 22.0.4 is available.\n",
      "You should consider upgrading via the '/Users/jiemakel/Library/Caches/pypoetry/virtualenvs/convoy-analysis-FIx-i_EO-py3.10/bin/python -m pip install --upgrade pip' command.\u001b[0m\u001b[33m\n",
      "\u001b[0m"
     ]
    }
   ],
   "source": [
    "# can be used to install requirements from within Jupyter\n",
    "!wget -nc https://raw.githubusercontent.com/dhh22/convoy-analysis/main/requirements.txt\n",
    "!pip install -r requirements.txt"
   ]
  },
  {
   "cell_type": "code",
   "execution_count": 1,
   "id": "cfa5190a",
   "metadata": {
    "lines_to_next_cell": 0
   },
   "outputs": [],
   "source": [
    "import os\n",
    "import sys\n",
    "if \"__file__\" in globals():\n",
    "    sys.path.append(os.path.dirname(os.path.dirname(os.path.realpath(__file__))))\n",
    "sys.path.append(os.getcwd()+\"/code\")\n",
    "sys.path.append(\"./code\")\n",
    "sys.path.append(\".\")\n",
    "sys.path.append(\"..\")\n",
    "import common_basis\n",
    "\n",
    "con = common_basis.con\n",
    "\n",
    "import pandas as pd\n",
    "import seaborn as sns"
   ]
  },
  {
   "cell_type": "code",
   "execution_count": 2,
   "id": "576d1924",
   "metadata": {},
   "outputs": [],
   "source": [
    "\n",
    "d = pd.read_sql_query(\"\"\"\n",
    "  SELECT COUNT(*) as tweets \n",
    "  FROM tweets_c \n",
    "  GROUP BY conversation_id\"\"\", con)"
   ]
  },
  {
   "cell_type": "code",
   "execution_count": 3,
   "id": "b08f2b90",
   "metadata": {},
   "outputs": [
    {
     "data": {
      "text/plain": [
       "<AxesSubplot:xlabel='tweets', ylabel='Count'>"
      ]
     },
     "execution_count": 3,
     "metadata": {},
     "output_type": "execute_result"
    },
    {
     "data": {
      "image/png": "[encoded data removed]",
      "text/plain": [
       "<Figure size 432x288 with 1 Axes>"
      ]
     },
     "metadata": {
      "needs_background": "light"
     },
     "output_type": "display_data"
    }
   ],
   "source": [
    "\n",
    "sns.histplot(d, x=\"tweets\", bins=100, log_scale=(True, True))"
   ]
  },
  {
   "cell_type": "code",
   "execution_count": null,
   "id": "05a225ee",
   "metadata": {
    "lines_to_next_cell": 2
   },
   "outputs": [],
   "source": []
  }
 ],
 "metadata": {
  "jupytext": {
   "cell_metadata_filter": "-all",
   "formats": "py:percent,ipynb"
  },
  "kernelspec": {
   "display_name": "Python 3 (ipykernel)",
   "language": "python",
   "name": "python3"
  },
  "language_info": {
   "codemirror_mode": {
    "name": "ipython",
    "version": 3
   },
   "file_extension": ".py",
   "mimetype": "text/x-python",
   "name": "python",
   "nbconvert_exporter": "python",
   "pygments_lexer": "ipython3",
   "version": "3.10.4"
  }
 },
 "nbformat": 4,
 "nbformat_minor": 5
}
